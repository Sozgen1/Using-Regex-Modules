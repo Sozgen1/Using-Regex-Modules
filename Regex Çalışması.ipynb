{
 "cells": [
  {
   "cell_type": "code",
   "execution_count": 2,
   "id": "ff5c5b6b",
   "metadata": {},
   "outputs": [
    {
     "name": "stdout",
     "output_type": "stream",
     "text": [
      "Turkcell\n"
     ]
    }
   ],
   "source": [
    "# gsm operatörü bulma\n",
    "import re\n",
    "\n",
    "def gsm_bul_op(tel_no):\n",
    "    patern = r\"(\\d{3})-(\\d{7})\"\n",
    "    eslesme = re.search(patern, tel_no)\n",
    "    \n",
    "    if eslesme:\n",
    "     gsm_kod = eslesme.groups()[0]\n",
    "     if gsm_kod.startswith(\"54\"):\n",
    "        print(\"Wodefone\")\n",
    "     elif gsm_kod.startswith(\"501\") or gsm_kod.startswith(\"505\") or gsm_kod.startswith(\"506\"):\n",
    "        print(\"Avea\")\n",
    "     elif gsm_kod.startswith(\"53\"):\n",
    "        print(\"Turkcell\")\n",
    "     else: \n",
    "        print(\"şebeke Bulunamadı...\")\n",
    "      \n",
    "\n",
    "    else:\n",
    "        print(\"Böyle bir telefon numarası yoktur...\")\n",
    "\n",
    "tel_no = \"0535-8886622\"\n",
    "gsm_bul_op(tel_no)      "
   ]
  },
  {
   "cell_type": "code",
   "execution_count": null,
   "id": "854dc223",
   "metadata": {},
   "outputs": [],
   "source": []
  }
 ],
 "metadata": {
  "kernelspec": {
   "display_name": "Python 3 (ipykernel)",
   "language": "python",
   "name": "python3"
  },
  "language_info": {
   "codemirror_mode": {
    "name": "ipython",
    "version": 3
   },
   "file_extension": ".py",
   "mimetype": "text/x-python",
   "name": "python",
   "nbconvert_exporter": "python",
   "pygments_lexer": "ipython3",
   "version": "3.9.7"
  }
 },
 "nbformat": 4,
 "nbformat_minor": 5
}
